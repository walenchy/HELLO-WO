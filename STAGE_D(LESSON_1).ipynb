{
  "nbformat": 4,
  "nbformat_minor": 0,
  "metadata": {
    "colab": {
      "name": "STAGE D(LESSON 1)",
      "provenance": [],
      "authorship_tag": "ABX9TyOrwSI6TMd//T1psM9Q3kf5",
      "include_colab_link": true
    },
    "kernelspec": {
      "name": "python3",
      "display_name": "Python 3"
    },
    "language_info": {
      "name": "python"
    }
  },
  "cells": [
    {
      "cell_type": "markdown",
      "metadata": {
        "id": "view-in-github",
        "colab_type": "text"
      },
      "source": [
        "<a href=\"https://colab.research.google.com/github/walenchy/HELLO-WO/blob/main/STAGE_D(LESSON_1).ipynb\" target=\"_parent\"><img src=\"https://colab.research.google.com/assets/colab-badge.svg\" alt=\"Open In Colab\"/></a>"
      ]
    },
    {
      "cell_type": "markdown",
      "metadata": {
        "id": "DkM0OX4Ax-GZ"
      },
      "source": [
        "# Import Libraries"
      ]
    },
    {
      "cell_type": "code",
      "metadata": {
        "id": "8HwoQleQvgQP"
      },
      "source": [
        "# Importing needed libraries\n",
        "\n",
        "import numpy as np\n",
        "import matplotlib.pyplot as plt\n",
        "import tensorflow as tf\n",
        "from tensorflow import keras"
      ],
      "execution_count": 1,
      "outputs": []
    },
    {
      "cell_type": "code",
      "metadata": {
        "colab": {
          "base_uri": "https://localhost:8080/"
        },
        "id": "3jxxH05EzpB9",
        "outputId": "cd0f6f77-07c6-4e61-f534-21449e8d6dff"
      },
      "source": [
        "# Mnist comes with Keras by default so simply load the test and train files using the codes below\n",
        "\n",
        "mnist= keras.datasets.mnist\n",
        "(train_images, train_labels), (test_images, test_labels)=mnist.load_data()"
      ],
      "execution_count": 2,
      "outputs": [
        {
          "output_type": "stream",
          "name": "stdout",
          "text": [
            "Downloading data from https://storage.googleapis.com/tensorflow/tf-keras-datasets/mnist.npz\n",
            "11493376/11490434 [==============================] - 0s 0us/step\n",
            "11501568/11490434 [==============================] - 0s 0us/step\n"
          ]
        }
      ]
    },
    {
      "cell_type": "markdown",
      "metadata": {
        "id": "HIDZGP4y2u-g"
      },
      "source": [
        "#Exploring the data"
      ]
    },
    {
      "cell_type": "markdown",
      "metadata": {
        "id": "O3BVi7uf27T9"
      },
      "source": [
        "The mnist dataset is a collection of 28 x 28 pixel images showing hand-drawn representations of the digits 0-9, or what we will refer to as 10 classes. Every mnist datapoint has two parts: the image of a handwritten digit (x) and the corresponding label(y), Both the training set and the test set contains images and the corresponding labels."
      ]
    },
    {
      "cell_type": "code",
      "metadata": {
        "colab": {
          "base_uri": "https://localhost:8080/"
        },
        "id": "7np8ynKQ1l_K",
        "outputId": "2e7bc48c-36f5-4831-bb5e-dbfea56435e9"
      },
      "source": [
        "# Let's have a look at the shape of the datasets\n",
        "\n",
        "print(\"Training data: {}, {}\".format(train_images.shape, train_labels.shape))\n",
        "# prints Training data: (60000, 28, 28), (60000,)\n",
        "print(\"Test data: {}, {}\".format(test_images.shape, test_labels.shape))\n",
        "# prints Test data: (10000, 28, 28), (10000,)"
      ],
      "execution_count": 5,
      "outputs": [
        {
          "output_type": "stream",
          "name": "stdout",
          "text": [
            "Training data: (60000, 28, 28), (60000,)\n",
            "Test data: (10000, 28, 28), (10000,)\n"
          ]
        }
      ]
    },
    {
      "cell_type": "code",
      "metadata": {
        "colab": {
          "base_uri": "https://localhost:8080/"
        },
        "id": "hThjCWwO2z3M",
        "outputId": "408510fb-c803-44b1-b43d-29fb18cd625f"
      },
      "source": [
        "class_labels = np.unique(train_labels)\n",
        "print(\"There are {} classes in the dataset. They are: {}\".format(len(class_labels), class_labels))"
      ],
      "execution_count": 6,
      "outputs": [
        {
          "output_type": "stream",
          "name": "stdout",
          "text": [
            "There are 10 classes in the dataset. They are: [0 1 2 3 4 5 6 7 8 9]\n"
          ]
        }
      ]
    },
    {
      "cell_type": "code",
      "metadata": {
        "colab": {
          "base_uri": "https://localhost:8080/",
          "height": 213
        },
        "id": "A_bx7upj6LeI",
        "outputId": "d1c54d20-137e-4272-d9e5-93f9a6a8d7c8"
      },
      "source": [
        "# Let's plot and look at a few images \n",
        "\n",
        "plt.figure(figsize=(8, 5))\n",
        "\n",
        "plt.subplot(1,3,1)\n",
        "plt.imshow(train_images[0])\n",
        "plt.title(\"Label: {}\".format(train_labels[0]))"
      ],
      "execution_count": 7,
      "outputs": [
        {
          "output_type": "execute_result",
          "data": {
            "text/plain": [
              "Text(0.5, 1.0, 'Label: 5')"
            ]
          },
          "metadata": {},
          "execution_count": 7
        },
        {
          "output_type": "display_data",
          "data": {
            "image/png": "[encoded data removed]",
            "text/plain": [
              "<Figure size 576x360 with 1 Axes>"
            ]
          },
          "metadata": {
            "needs_background": "light"
          }
        }
      ]
    },
    {
      "cell_type": "code",
      "metadata": {
        "colab": {
          "base_uri": "https://localhost:8080/",
          "height": 180
        },
        "id": "ugPXRpBx6XE4",
        "outputId": "7361d406-853f-488b-f3d3-b0e998e9fd2e"
      },
      "source": [
        "plt.subplot(1,3,2)\n",
        "plt.imshow(train_images[2500])\n",
        "plt.title(\"Label: {}\".format(train_labels[2500]))"
      ],
      "execution_count": 8,
      "outputs": [
        {
          "output_type": "execute_result",
          "data": {
            "text/plain": [
              "Text(0.5, 1.0, 'Label: 0')"
            ]
          },
          "metadata": {},
          "execution_count": 8
        },
        {
          "output_type": "display_data",
          "data": {
            "image/png": "[encoded data removed]",
            "text/plain": [
              "<Figure size 432x288 with 1 Axes>"
            ]
          },
          "metadata": {
            "needs_background": "light"
          }
        }
      ]
    },
    {
      "cell_type": "code",
      "metadata": {
        "colab": {
          "base_uri": "https://localhost:8080/",
          "height": 149
        },
        "id": "5VnFkkcS6fHe",
        "outputId": "504f0bae-18eb-44cd-f288-40fa3dac34c9"
      },
      "source": [
        "plt.subplot(1,3,3)\n",
        "plt.imshow(test_images[12])\n",
        "plt.show()"
      ],
      "execution_count": 9,
      "outputs": [
        {
          "output_type": "display_data",
          "data": {
            "image/png": "[encoded data removed]",
            "text/plain": [
              "<Figure size 432x288 with 1 Axes>"
            ]
          },
          "metadata": {
            "needs_background": "light"
          }
        }
      ]
    },
    {
      "cell_type": "markdown",
      "metadata": {
        "id": "sBqXoAsL6wEO"
      },
      "source": [
        "# Data Preprocessing"
      ]
    },
    {
      "cell_type": "markdown",
      "metadata": {
        "id": "asqYQI5j62jc"
      },
      "source": [
        "We would first of all normaize the images pixel values. Pixel values are often unsigned integers in the range between 0 and 255. Although these pixel values can be presented directly to neural network models in their raw format, this can result in challenges during modeling, such as in the slower than expected training of the model.\n",
        "\n",
        "Instead, there can be great benefit in preparing the image pixel values prior to modeling, such as simply scaling pixel values to the range 0-1 to centering and even standardizing the values."
      ]
    },
    {
      "cell_type": "code",
      "metadata": {
        "id": "DCFvTvmx6zzB"
      },
      "source": [
        "# As usual, we scale our dataset to range between 0 and 1. In this dataset, the pixel values range from 0 to 255.\n",
        "# Dividing the data by 255 scales to the required range. This normalization is done to help with the training.\n",
        "\n",
        "train_images = train_images / 255.0\n",
        "test_images = test_images / 255.0"
      ],
      "execution_count": 10,
      "outputs": []
    },
    {
      "cell_type": "markdown",
      "metadata": {
        "id": "kK8bSHlK70mQ"
      },
      "source": [
        "We then partition this dataset further and create a validation set. In other words, a training set is used to fit the parameters, validation set is used to tune the parameters while the trained classifier is evaluated on the test set."
      ]
    },
    {
      "cell_type": "code",
      "metadata": {
        "colab": {
          "base_uri": "https://localhost:8080/"
        },
        "id": "3JINvZRC8ENV",
        "outputId": "c9e43765-1980-43e1-8a05-3215d4764ec5"
      },
      "source": [
        "x_train = train_images[0:50000]\n",
        "x_val = train_images[50000:]\n",
        "y_train = train_labels[0:50000]\n",
        "y_val = train_labels[50000:]\n",
        "\n",
        "print(\"x_train: {}\".format(x_train.shape)) # prints x_train: (50000, 28, 28)\n",
        "print(\"x_val: {}\".format(x_val.shape)) # prints x_val: (10000, 28, 28)\n",
        "print(\"y_train: {}\".format(y_train.shape)) #prints y_train: (50000,)\n",
        "print(\"y_val: {}\".format(y_val.shape)) #prints y_val: (10000,)"
      ],
      "execution_count": 11,
      "outputs": [
        {
          "output_type": "stream",
          "name": "stdout",
          "text": [
            "x_train: (50000, 28, 28)\n",
            "x_val: (10000, 28, 28)\n",
            "y_train: (50000,)\n",
            "y_val: (10000,)\n"
          ]
        }
      ]
    },
    {
      "cell_type": "markdown",
      "metadata": {
        "id": "YbSzPfMi9V9_"
      },
      "source": [
        "Now we one-hot code the categorical column(y in this case). In one-hot encoding, we convert the categorical data into a vector of numbers i.e converting class vectors to binary class vectors(0 and 1). we do this because machine learning algorithms can't work with categorical data directly.\n",
        "\n",
        "The one-hot encoding will be a row vector, and for each image, it will have a dimension of 1 x 10. It's important to note that the vector consists of all zeros except for the class that it represents,there, you'll find a 1. For example 3 translates to [0 0 0 1 0 0 0 0 0 0] and 9 translates to [0 0 0 0 0 0 0 0 0 1]. Note that no_labels also refers to the number of classes which is 10."
      ]
    },
    {
      "cell_type": "code",
      "metadata": {
        "id": "vPcdbg0k9c1e"
      },
      "source": [
        "# one-hot encoding using keras' numpy-related utilities\n",
        "\n",
        "from tensorflow.keras.utils import to_categorical\n",
        "no_labels = 10\n",
        "y_train = to_categorical(y_train, no_labels)\n",
        "y_val = to_categorical(y_val, no_labels)\n",
        "y_test = to_categorical(test_labels, no_labels)"
      ],
      "execution_count": 12,
      "outputs": []
    },
    {
      "cell_type": "markdown",
      "metadata": {
        "id": "B2nbYYtyAG47"
      },
      "source": [
        "As with all machine learning, the models are very picky about the format of the input data. We need to to reshape the 28x28 image arrays into 784-unit vectors. This is necessary because the first layer of the network is expecting a vector input."
      ]
    },
    {
      "cell_type": "code",
      "metadata": {
        "colab": {
          "base_uri": "https://localhost:8080/"
        },
        "id": "8nZlpLO2AId2",
        "outputId": "c87dc932-38ae-475d-b38d-6825b7c26a1a"
      },
      "source": [
        "# Flattening the images from the 2D 28x28 pixels to 1D 784 pixels\n",
        "\n",
        "new_dimension = np.prod(train_images.shape[1:])\n",
        "x_train = x_train.reshape(x_train.shape[0], new_dimension)\n",
        "x_val = x_val.reshape(x_val.shape[0], new_dimension)\n",
        "test_images = test_images.reshape(test_images.shape[0], new_dimension)\n",
        "\n",
        "print(\"x_train: {}\".format(x_train.shape)) #prints  x_train: (50000, 784)\n",
        "print(\"x_val: {}\".format(x_val.shape)) #prints x_val: (10000, 784)\n",
        "print(\"test_images: {}\".format(test_images.shape)) #prints test_images: (10000, 784)"
      ],
      "execution_count": 13,
      "outputs": [
        {
          "output_type": "stream",
          "name": "stdout",
          "text": [
            "x_train: (50000, 784)\n",
            "x_val: (10000, 784)\n",
            "test_images: (10000, 784)\n"
          ]
        }
      ]
    },
    {
      "cell_type": "markdown",
      "metadata": {
        "id": "4zZElG-cAZMb"
      },
      "source": [
        "We will now define an input placeholder X, which will have a dimension of None x 784 (new_dimension= 784) and the output placeholder with a dimension of None x 10.\n",
        "\n",
        "A placeholder is simply a variable that we will assign data to at a later date. It allows us to create our operations and build our computation graph, without needing the data. In TensorFlow terminology, we then feed data into the graph through these placeholders. The first dimension of the placeholder is None, meaning we can have any number of rows."
      ]
    },
    {
      "cell_type": "code",
      "metadata": {
        "colab": {
          "base_uri": "https://localhost:8080/"
        },
        "id": "iJhhJ-cAAak3",
        "outputId": "0ec8bc83-f8b6-4ffd-96d6-433665c8c893"
      },
      "source": [
        "# inputs\n",
        "#placeholders are not enabled in tf 2\n",
        "import tensorflow.compat.v1 as tf\n",
        "tf.disable_v2_behavior()\n",
        "X = tf.placeholder(tf.float32, [None, new_dimension])\n",
        "Y = tf.placeholder(tf.float32, [None, no_labels])"
      ],
      "execution_count": 14,
      "outputs": [
        {
          "output_type": "stream",
          "name": "stdout",
          "text": [
            "WARNING:tensorflow:From /usr/local/lib/python3.7/dist-packages/tensorflow/python/compat/v2_compat.py:101: disable_resource_variables (from tensorflow.python.ops.variable_scope) is deprecated and will be removed in a future version.\n",
            "Instructions for updating:\n",
            "non-resource variables are not supported in the long term\n"
          ]
        }
      ]
    },
    {
      "cell_type": "markdown",
      "metadata": {
        "id": "EuUyqnITAnQW"
      },
      "source": [
        "# Building the model architecture"
      ]
    },
    {
      "cell_type": "code",
      "metadata": {
        "id": "wy-svqfYApxE"
      },
      "source": [
        "# create model architecture\n",
        "def multilayer_perceptron(x, no_classes, first_layer_neurons=256, second_layer_neurons=128):\n",
        "  # first layer\n",
        "  first_weight = tf.Variable(tf.random_uniform([new_dimension, first_layer_neurons]))\n",
        "  first_bias = tf.Variable(tf.zeros([first_layer_neurons]))\n",
        "  first_layer_output = tf.nn.relu(tf.add(tf.matmul(x, first_weight), first_bias))\n",
        "  # second layer\n",
        "  second_weight = tf.Variable(tf.random_uniform([first_layer_neurons,second_layer_neurons]))\n",
        "  second_bias = tf.Variable(tf.zeros([second_layer_neurons]))\n",
        "  second_layer_output = tf.nn.relu(tf.add(tf.matmul(first_layer_output, second_weight), second_bias))\n",
        "  # output layer\n",
        "  final_weight = tf.Variable(tf.random_uniform([second_layer_neurons, no_classes]))\n",
        "  final_bias = tf.Variable(tf.zeros([no_classes]))\n",
        "  logits = tf.add(tf.matmul(second_layer_output, final_weight), final_bias)\n",
        "\n",
        "  return logits"
      ],
      "execution_count": 15,
      "outputs": []
    },
    {
      "cell_type": "code",
      "metadata": {
        "colab": {
          "base_uri": "https://localhost:8080/"
        },
        "id": "027o_uzHA549",
        "outputId": "ea8d90d5-6d0b-412d-c62c-37ae1199c055"
      },
      "source": [
        "logits = multilayer_perceptron(X, no_labels)\n",
        "learning_rate = 0.01\n",
        "#we define the loss and optimiser for the network\n",
        "loss_op = tf.reduce_mean(tf.nn.softmax_cross_entropy_with_logits(logits=logits, labels=Y))\n",
        "optimiser = tf.train.AdamOptimizer(learning_rate=learning_rate)\n",
        "train_op = optimiser.minimize(loss_op)"
      ],
      "execution_count": 16,
      "outputs": [
        {
          "output_type": "stream",
          "name": "stdout",
          "text": [
            "WARNING:tensorflow:From /usr/local/lib/python3.7/dist-packages/tensorflow/python/util/dispatch.py:206: softmax_cross_entropy_with_logits (from tensorflow.python.ops.nn_ops) is deprecated and will be removed in a future version.\n",
            "Instructions for updating:\n",
            "\n",
            "Future major versions of TensorFlow will allow gradients to flow\n",
            "into the labels input on backprop by default.\n",
            "\n",
            "See `tf.nn.softmax_cross_entropy_with_logits_v2`.\n",
            "\n"
          ]
        }
      ]
    },
    {
      "cell_type": "markdown",
      "metadata": {
        "id": "pqYRpRjIBEcu"
      },
      "source": [
        "#Running the model"
      ]
    },
    {
      "cell_type": "code",
      "metadata": {
        "colab": {
          "base_uri": "https://localhost:8080/"
        },
        "id": "L824QlPUBGlp",
        "outputId": "167415ec-4ab4-4045-899e-93188d72f932"
      },
      "source": [
        "#initialise the variables\n",
        "init = tf.global_variables_initializer()\n",
        "\n",
        "epochs = 20\n",
        "batch_size = 1000\n",
        "iteration = len(x_train) // batch_size\n",
        "#train model\n",
        "with tf.Session() as session:\n",
        "  session.run(init)\n",
        "  for epoch in range(epochs):\n",
        "    average_cost = 0\n",
        "    start, end = 0, batch_size\n",
        "    for i in range(iteration):\n",
        "      batch_x, batch_y = x_train[start: end], y_train[start: end]\n",
        "      _, loss = session.run([train_op, loss_op], feed_dict={X: batch_x, Y: batch_y})\n",
        "      start += batch_size\n",
        "      end += batch_size \n",
        "      #average loss\n",
        "      average_cost += loss/iteration\n",
        "    print(\"Epoch========{}\".format(epoch))\n",
        "    #evaluate model\n",
        "  prediction = tf.nn.softmax(logits)\n",
        "  ground_truth = tf.equal(tf.argmax(prediction, 1), tf.argmax(Y, 1))\n",
        "  accuracy = tf.reduce_mean(tf.cast(ground_truth, \"float\"))\n",
        "  print(\"Accuracy: {}\".format(accuracy.eval({X: test_images, Y: y_test})))"
      ],
      "execution_count": 17,
      "outputs": [
        {
          "output_type": "stream",
          "name": "stdout",
          "text": [
            "Epoch========0\n",
            "Epoch========1\n",
            "Epoch========2\n",
            "Epoch========3\n",
            "Epoch========4\n",
            "Epoch========5\n",
            "Epoch========6\n",
            "Epoch========7\n",
            "Epoch========8\n",
            "Epoch========9\n",
            "Epoch========10\n",
            "Epoch========11\n",
            "Epoch========12\n",
            "Epoch========13\n",
            "Epoch========14\n",
            "Epoch========15\n",
            "Epoch========16\n",
            "Epoch========17\n",
            "Epoch========18\n",
            "Epoch========19\n",
            "Accuracy: 0.909500002861023\n"
          ]
        }
      ]
    },
    {
      "cell_type": "markdown",
      "metadata": {
        "id": "3rbf_mb_CBPL"
      },
      "source": [
        "#Optimization for training deep neural networks"
      ]
    },
    {
      "cell_type": "code",
      "metadata": {
        "id": "tAEDMTkuCGWp"
      },
      "source": [
        "#Building a Sequential Feed Forward Network in Keras\n",
        "\n",
        "from tensorflow.keras.layers import Dense\n",
        "from tensorflow.keras.models import Sequential\n",
        "#Build the model object\n",
        "model = Sequential()\n",
        "# Build the input and the hidden layers\n",
        "model.add(Dense(256, activation='relu', input_shape=(new_dimension,)))\n",
        "model.add(Dense(128, activation='relu'))\n",
        "# Build the output layer\n",
        "model.add(Dense(no_labels, activation='softmax'))"
      ],
      "execution_count": 18,
      "outputs": []
    },
    {
      "cell_type": "markdown",
      "metadata": {
        "id": "YY4mbSLOCf3A"
      },
      "source": [
        "Now that the model is in place, we configure the learning process using .compile(). Here we specify our loss function (or objective function). For our setting categorical cross entropy fits the bill, but in general other loss functions are available.\n",
        "\n",
        "As for the optimizer of choice we'll use Adam with default settings. We could also instantiate an optimizer and set parameters before passing it to model.compile() but for this example the defaults will do.\n",
        "\n",
        "We also choose which metrics will be evaluated during training and testing. We can pass any list of metrics - even build metrics ourselves - and have them displayed during training/testing."
      ]
    },
    {
      "cell_type": "code",
      "metadata": {
        "id": "jVl6FP0mCh-v"
      },
      "source": [
        "model.compile(optimizer='adam', loss=tf.keras.losses.categorical_crossentropy, \n",
        "              metrics=['accuracy'])"
      ],
      "execution_count": 19,
      "outputs": []
    },
    {
      "cell_type": "markdown",
      "metadata": {
        "id": "sDOBHZ9bCrd_"
      },
      "source": [
        "Having compiled our model we can now start the training process. We have to specify how many times we want to iterate on the whole training set (epochs) and how many samples we use for one update to the model's weights (batch size)."
      ]
    },
    {
      "cell_type": "code",
      "metadata": {
        "colab": {
          "base_uri": "https://localhost:8080/"
        },
        "id": "NP4P9QO6CtCx",
        "outputId": "c0a9017d-c66e-4609-e070-69fe642eafe5"
      },
      "source": [
        "history = model.fit(x_train, y_train, validation_data=(x_val, y_val), epochs=20, batch_size=1000)\n",
        "\n",
        "test_loss, test_accuracy = model.evaluate(test_images, y_test)\n",
        "print('Test loss: {}'.format(test_loss))\n",
        "print('Test accuracy: {}'.format(test_accuracy))"
      ],
      "execution_count": 20,
      "outputs": [
        {
          "output_type": "stream",
          "name": "stdout",
          "text": [
            "Train on 50000 samples, validate on 10000 samples\n",
            "Epoch 1/20\n",
            "50000/50000 [==============================] - 2s 33us/sample - loss: 0.6608 - acc: 0.8228 - val_loss: 0.2510 - val_acc: 0.9305\n",
            "Epoch 2/20\n",
            " 1000/50000 [..............................] - ETA: 1s - loss: 0.2501 - acc: 0.9250"
          ]
        },
        {
          "output_type": "stream",
          "name": "stderr",
          "text": [
            "/usr/local/lib/python3.7/dist-packages/keras/engine/training.py:2470: UserWarning: `Model.state_updates` will be removed in a future version. This property should not be used in TensorFlow 2.0, as `updates` are applied automatically.\n",
            "  warnings.warn('`Model.state_updates` will be removed in a future version. '\n"
          ]
        },
        {
          "output_type": "stream",
          "name": "stdout",
          "text": [
            "50000/50000 [==============================] - 1s 30us/sample - loss: 0.2295 - acc: 0.9344 - val_loss: 0.1792 - val_acc: 0.9508\n",
            "Epoch 3/20\n",
            "50000/50000 [==============================] - 1s 30us/sample - loss: 0.1689 - acc: 0.9515 - val_loss: 0.1470 - val_acc: 0.9599\n",
            "Epoch 4/20\n",
            "50000/50000 [==============================] - 1s 29us/sample - loss: 0.1324 - acc: 0.9620 - val_loss: 0.1267 - val_acc: 0.9647\n",
            "Epoch 5/20\n",
            "50000/50000 [==============================] - 1s 30us/sample - loss: 0.1074 - acc: 0.9692 - val_loss: 0.1120 - val_acc: 0.9688\n",
            "Epoch 6/20\n",
            "50000/50000 [==============================] - 1s 30us/sample - loss: 0.0878 - acc: 0.9748 - val_loss: 0.1031 - val_acc: 0.9705\n",
            "Epoch 7/20\n",
            "50000/50000 [==============================] - 1s 30us/sample - loss: 0.0743 - acc: 0.9787 - val_loss: 0.0999 - val_acc: 0.9720\n",
            "Epoch 8/20\n",
            "50000/50000 [==============================] - 1s 29us/sample - loss: 0.0624 - acc: 0.9818 - val_loss: 0.0879 - val_acc: 0.9730\n",
            "Epoch 9/20\n",
            "50000/50000 [==============================] - 1s 29us/sample - loss: 0.0527 - acc: 0.9857 - val_loss: 0.0867 - val_acc: 0.9733\n",
            "Epoch 10/20\n",
            "50000/50000 [==============================] - 1s 30us/sample - loss: 0.0443 - acc: 0.9880 - val_loss: 0.0841 - val_acc: 0.9745\n",
            "Epoch 11/20\n",
            "50000/50000 [==============================] - 1s 30us/sample - loss: 0.0387 - acc: 0.9898 - val_loss: 0.0817 - val_acc: 0.9752\n",
            "Epoch 12/20\n",
            "50000/50000 [==============================] - 1s 30us/sample - loss: 0.0325 - acc: 0.9920 - val_loss: 0.0817 - val_acc: 0.9752\n",
            "Epoch 13/20\n",
            "50000/50000 [==============================] - 1s 29us/sample - loss: 0.0301 - acc: 0.9920 - val_loss: 0.0812 - val_acc: 0.9757\n",
            "Epoch 14/20\n",
            "50000/50000 [==============================] - 1s 29us/sample - loss: 0.0235 - acc: 0.9945 - val_loss: 0.0765 - val_acc: 0.9780\n",
            "Epoch 15/20\n",
            "50000/50000 [==============================] - 1s 29us/sample - loss: 0.0205 - acc: 0.9955 - val_loss: 0.0803 - val_acc: 0.9762\n",
            "Epoch 16/20\n",
            "50000/50000 [==============================] - 1s 30us/sample - loss: 0.0180 - acc: 0.9961 - val_loss: 0.0805 - val_acc: 0.9781\n",
            "Epoch 17/20\n",
            "50000/50000 [==============================] - 1s 30us/sample - loss: 0.0150 - acc: 0.9974 - val_loss: 0.0774 - val_acc: 0.9771\n",
            "Epoch 18/20\n",
            "50000/50000 [==============================] - 1s 30us/sample - loss: 0.0125 - acc: 0.9982 - val_loss: 0.0792 - val_acc: 0.9787\n",
            "Epoch 19/20\n",
            "50000/50000 [==============================] - 1s 29us/sample - loss: 0.0103 - acc: 0.9988 - val_loss: 0.0763 - val_acc: 0.9788\n",
            "Epoch 20/20\n",
            "50000/50000 [==============================] - 2s 30us/sample - loss: 0.0089 - acc: 0.9990 - val_loss: 0.0788 - val_acc: 0.9791\n",
            "Test loss: 0.0744620888131205\n",
            "Test accuracy: 0.9793000221252441\n"
          ]
        }
      ]
    },
    {
      "cell_type": "code",
      "metadata": {
        "colab": {
          "base_uri": "https://localhost:8080/",
          "height": 313
        },
        "id": "kegzrfZoDAcx",
        "outputId": "42ff64bd-f379-4d03-81b1-8e5b125ea175"
      },
      "source": [
        "#Check for Overfitting\n",
        "\n",
        "plt.figure()\n",
        "plt.plot(history.history['loss'], 'blue')\n",
        "plt.plot(history.history['val_loss'], 'red')\n",
        "plt.legend(['Training loss', 'Validation Loss'])\n",
        "plt.xlabel('Epochs')\n",
        "plt.ylabel('Loss')\n",
        "plt.title('Loss Curves - before regularisation')"
      ],
      "execution_count": 21,
      "outputs": [
        {
          "output_type": "execute_result",
          "data": {
            "text/plain": [
              "Text(0.5, 1.0, 'Loss Curves - before regularisation')"
            ]
          },
          "metadata": {},
          "execution_count": 21
        },
        {
          "output_type": "display_data",
          "data": {
            "image/png": "[encoded data removed]",
            "text/plain": [
              "<Figure size 432x288 with 1 Axes>"
            ]
          },
          "metadata": {
            "needs_background": "light"
          }
        }
      ]
    },
    {
      "cell_type": "code",
      "metadata": {
        "colab": {
          "base_uri": "https://localhost:8080/"
        },
        "id": "334Kbu0iDNn2",
        "outputId": "bea125ad-26af-442a-8383-48bbf2c6b1d1"
      },
      "source": [
        "from tensorflow.keras.layers import Dropout\n",
        "reg_model = Sequential()\n",
        "reg_model.add(Dense(256, activation='relu', input_shape=(new_dimension,)))\n",
        "reg_model.add(Dropout(0.4))\n",
        "reg_model.add(Dense(128, activation='relu'))\n",
        "reg_model.add(Dropout(0.4))\n",
        "reg_model.add(Dense(no_labels, activation='softmax'))\n",
        "\n",
        "reg_model.compile(optimizer='adam', loss=tf.keras.losses.categorical_crossentropy, \n",
        "              metrics=['accuracy'])\n",
        "\n",
        "reg_history = reg_model.fit(x_train, y_train, validation_data=(x_val, y_val), \n",
        "                            epochs=20, batch_size=1000)\n",
        "test_loss, test_accuracy = reg_model.evaluate(test_images, y_test)\n",
        "print('Test loss: {}'.format(test_loss))\n",
        "print('Test accuracy: {}'.format(test_accuracy))"
      ],
      "execution_count": 22,
      "outputs": [
        {
          "output_type": "stream",
          "name": "stdout",
          "text": [
            "Train on 50000 samples, validate on 10000 samples\n",
            "Epoch 1/20\n",
            "50000/50000 [==============================] - 2s 37us/sample - loss: 0.9717 - acc: 0.6956 - val_loss: 0.2976 - val_acc: 0.9159\n"
          ]
        },
        {
          "output_type": "stream",
          "name": "stderr",
          "text": [
            "/usr/local/lib/python3.7/dist-packages/keras/engine/training.py:2470: UserWarning: `Model.state_updates` will be removed in a future version. This property should not be used in TensorFlow 2.0, as `updates` are applied automatically.\n",
            "  warnings.warn('`Model.state_updates` will be removed in a future version. '\n"
          ]
        },
        {
          "output_type": "stream",
          "name": "stdout",
          "text": [
            "Epoch 2/20\n",
            "50000/50000 [==============================] - 2s 34us/sample - loss: 0.3734 - acc: 0.8907 - val_loss: 0.2023 - val_acc: 0.9410\n",
            "Epoch 3/20\n",
            "50000/50000 [==============================] - 2s 34us/sample - loss: 0.2764 - acc: 0.9191 - val_loss: 0.1614 - val_acc: 0.9531\n",
            "Epoch 4/20\n",
            "50000/50000 [==============================] - 2s 35us/sample - loss: 0.2273 - acc: 0.9337 - val_loss: 0.1404 - val_acc: 0.9596\n",
            "Epoch 5/20\n",
            "50000/50000 [==============================] - 2s 34us/sample - loss: 0.1959 - acc: 0.9419 - val_loss: 0.1261 - val_acc: 0.9622\n",
            "Epoch 6/20\n",
            "50000/50000 [==============================] - 2s 34us/sample - loss: 0.1743 - acc: 0.9490 - val_loss: 0.1113 - val_acc: 0.9662\n",
            "Epoch 7/20\n",
            "50000/50000 [==============================] - 2s 34us/sample - loss: 0.1534 - acc: 0.9542 - val_loss: 0.1007 - val_acc: 0.9704\n",
            "Epoch 8/20\n",
            "50000/50000 [==============================] - 2s 34us/sample - loss: 0.1411 - acc: 0.9578 - val_loss: 0.0975 - val_acc: 0.9718\n",
            "Epoch 9/20\n",
            "50000/50000 [==============================] - 2s 34us/sample - loss: 0.1307 - acc: 0.9607 - val_loss: 0.0917 - val_acc: 0.9723\n",
            "Epoch 10/20\n",
            "50000/50000 [==============================] - 2s 34us/sample - loss: 0.1179 - acc: 0.9647 - val_loss: 0.0866 - val_acc: 0.9735\n",
            "Epoch 11/20\n",
            "50000/50000 [==============================] - 2s 35us/sample - loss: 0.1104 - acc: 0.9672 - val_loss: 0.0840 - val_acc: 0.9753\n",
            "Epoch 12/20\n",
            "50000/50000 [==============================] - 2s 34us/sample - loss: 0.1013 - acc: 0.9690 - val_loss: 0.0807 - val_acc: 0.9757\n",
            "Epoch 13/20\n",
            "50000/50000 [==============================] - 2s 34us/sample - loss: 0.0955 - acc: 0.9714 - val_loss: 0.0785 - val_acc: 0.9761\n",
            "Epoch 14/20\n",
            "50000/50000 [==============================] - 2s 34us/sample - loss: 0.0899 - acc: 0.9727 - val_loss: 0.0786 - val_acc: 0.9773\n",
            "Epoch 15/20\n",
            "50000/50000 [==============================] - 2s 34us/sample - loss: 0.0866 - acc: 0.9728 - val_loss: 0.0754 - val_acc: 0.9765\n",
            "Epoch 16/20\n",
            "50000/50000 [==============================] - 2s 34us/sample - loss: 0.0793 - acc: 0.9759 - val_loss: 0.0755 - val_acc: 0.9770\n",
            "Epoch 17/20\n",
            "50000/50000 [==============================] - 2s 34us/sample - loss: 0.0782 - acc: 0.9764 - val_loss: 0.0737 - val_acc: 0.9775\n",
            "Epoch 18/20\n",
            "50000/50000 [==============================] - 2s 36us/sample - loss: 0.0731 - acc: 0.9769 - val_loss: 0.0733 - val_acc: 0.9767\n",
            "Epoch 19/20\n",
            "50000/50000 [==============================] - 2s 35us/sample - loss: 0.0711 - acc: 0.9780 - val_loss: 0.0738 - val_acc: 0.9784\n",
            "Epoch 20/20\n",
            "50000/50000 [==============================] - 2s 34us/sample - loss: 0.0670 - acc: 0.9788 - val_loss: 0.0721 - val_acc: 0.9787\n",
            "Test loss: 0.06909929435909726\n",
            "Test accuracy: 0.9796000123023987\n"
          ]
        }
      ]
    },
    {
      "cell_type": "code",
      "metadata": {
        "colab": {
          "base_uri": "https://localhost:8080/"
        },
        "id": "mzjihYW7DcOE",
        "outputId": "89099c97-378b-4036-dd9f-6689481bc4c5"
      },
      "source": [
        "test_loss, test_accuracy = reg_model.evaluate(test_images, y_test)\n",
        "print('Test loss: {}'.format(test_loss))\n",
        "print('Test accuracy: {}'.format(test_accuracy))"
      ],
      "execution_count": 23,
      "outputs": [
        {
          "output_type": "stream",
          "name": "stdout",
          "text": [
            "Test loss: 0.06909929435909726\n",
            "Test accuracy: 0.9796000123023987\n"
          ]
        }
      ]
    },
    {
      "cell_type": "code",
      "metadata": {
        "colab": {
          "base_uri": "https://localhost:8080/",
          "height": 313
        },
        "id": "VkNdpV7MDiqD",
        "outputId": "a988a2ff-a9f3-4516-b55b-8594dcaa38c1"
      },
      "source": [
        "plt.figure()\n",
        "plt.plot(reg_history.history['loss'], 'blue')\n",
        "plt.plot(reg_history.history['val_loss'], 'red')\n",
        "plt.legend(['Training loss', 'Validation Loss'])\n",
        "plt.xlabel('Epochs')\n",
        "plt.ylabel('Loss')\n",
        "plt.title('Loss Curves - after regularisation')"
      ],
      "execution_count": 24,
      "outputs": [
        {
          "output_type": "execute_result",
          "data": {
            "text/plain": [
              "Text(0.5, 1.0, 'Loss Curves - after regularisation')"
            ]
          },
          "metadata": {},
          "execution_count": 24
        },
        {
          "output_type": "display_data",
          "data": {
            "image/png": "[encoded data removed]",
            "text/plain": [
              "<Figure size 432x288 with 1 Axes>"
            ]
          },
          "metadata": {
            "needs_background": "light"
          }
        }
      ]
    },
    {
      "cell_type": "markdown",
      "metadata": {
        "id": "jLDOWEXdDqpL"
      },
      "source": [
        "#Making Predictions\n",
        "I added this just for more clarity and understanding. Let's use our model to predict some images and labels."
      ]
    },
    {
      "cell_type": "code",
      "metadata": {
        "colab": {
          "base_uri": "https://localhost:8080/"
        },
        "id": "Ua0lr4TCDvsC",
        "outputId": "e56dd789-648b-42b0-cf26-eb20d6d6bb30"
      },
      "source": [
        "predictions = model.predict([test_images]) # Make prediction\n",
        "print(np.argmax(predictions[1000])) # Print out 9"
      ],
      "execution_count": 25,
      "outputs": [
        {
          "output_type": "stream",
          "name": "stderr",
          "text": [
            "/usr/local/lib/python3.7/dist-packages/keras/engine/training.py:2470: UserWarning: `Model.state_updates` will be removed in a future version. This property should not be used in TensorFlow 2.0, as `updates` are applied automatically.\n",
            "  warnings.warn('`Model.state_updates` will be removed in a future version. '\n"
          ]
        },
        {
          "output_type": "stream",
          "name": "stdout",
          "text": [
            "9\n"
          ]
        }
      ]
    },
    {
      "cell_type": "code",
      "metadata": {
        "colab": {
          "base_uri": "https://localhost:8080/",
          "height": 181
        },
        "id": "IFH2hiBfEBBx",
        "outputId": "a8fe82c6-7dc1-43a5-a610-c10556e04d22"
      },
      "source": [
        "# Let's see whether the image would turn out to be 9\n",
        "# Remember that the input data to the network were flattened for the purpose of learning to a vector with a length of 784. Before displaying it, we need to convert it back to the size of 28 x 28 pixels.\n",
        "plt.figure(figsize=(8, 5))\n",
        "\n",
        "plt.subplot(1,3,1)\n",
        "plt.imshow(test_images[1000].reshape(28,28), cmap=\"gray\") # Import the image\n",
        "plt.show() # Show the image"
      ],
      "execution_count": 26,
      "outputs": [
        {
          "output_type": "display_data",
          "data": {
            "image/png": "[encoded data removed]",
            "text/plain": [
              "<Figure size 576x360 with 1 Axes>"
            ]
          },
          "metadata": {
            "needs_background": "light"
          }
        }
      ]
    },
    {
      "cell_type": "code",
      "metadata": {
        "colab": {
          "base_uri": "https://localhost:8080/"
        },
        "id": "zbeMTzU2EIZC",
        "outputId": "13471ab4-6283-4fc0-fb96-84d6f1744eb9"
      },
      "source": [
        "# You can try out others and play around with them\n",
        "predictions = model.predict([test_images]) # Make prediction\n",
        "print(np.argmax(predictions[6700])) # Print out the number"
      ],
      "execution_count": 27,
      "outputs": [
        {
          "output_type": "stream",
          "name": "stdout",
          "text": [
            "4\n"
          ]
        }
      ]
    },
    {
      "cell_type": "code",
      "metadata": {
        "colab": {
          "base_uri": "https://localhost:8080/",
          "height": 181
        },
        "id": "UgUTdmqPEOrW",
        "outputId": "f5ad9dbf-e02e-4009-83ee-88993a77d272"
      },
      "source": [
        "plt.figure(figsize=(8, 5))\n",
        "\n",
        "plt.subplot(1,3,1)\n",
        "plt.imshow(test_images[6700].reshape(28,28), cmap=\"gray\") # Import the image\n",
        "plt.show() # Show the image"
      ],
      "execution_count": 28,
      "outputs": [
        {
          "output_type": "display_data",
          "data": {
            "image/png": "[encoded data removed]",
            "text/plain": [
              "<Figure size 576x360 with 1 Axes>"
            ]
          },
          "metadata": {
            "needs_background": "light"
          }
        }
      ]
    }
  ]
}